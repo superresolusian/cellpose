{
 "cells": [
  {
   "cell_type": "code",
   "execution_count": 1,
   "id": "94218834",
   "metadata": {},
   "outputs": [],
   "source": [
    "import os\n",
    "import time\n",
    "\n",
    "import numpy as np\n",
    "import matplotlib.pyplot as plt\n",
    "import skimage.io\n",
    "from skimage import measure\n",
    "\n",
    "from cellpose import models, io, utils"
   ]
  },
  {
   "cell_type": "markdown",
   "id": "d1fb54f4",
   "metadata": {},
   "source": [
    "Edit the cell below so that **im_dir** points to the folder with your images in, and **save_dir** points to the directory where you want to save the outputs (if this does not exist yet, the code will create a directory for you in this location).\n",
    "**channels** should reflect the order of channels in your images - 'nucleus', 'nucleus' and 'cell_body' for the demo data. This notebook assumes that all of your images have the same channels."
   ]
  },
  {
   "cell_type": "code",
   "execution_count": 2,
   "id": "8676b36b",
   "metadata": {},
   "outputs": [],
   "source": [
    "im_dir = 'raw_images/'\n",
    "save_dir = 'cellpose_output/'\n",
    "channels = ['nucleus', 'nucleus', 'cell_body']"
   ]
  },
  {
   "cell_type": "markdown",
   "id": "e261e537",
   "metadata": {},
   "source": [
    "You shouldn't need to change anything below here, unless you want to segment something differently :-)"
   ]
  },
  {
   "cell_type": "code",
   "execution_count": 3,
   "id": "386a4807",
   "metadata": {},
   "outputs": [],
   "source": [
    "files = os.listdir(im_dir) # list files in directory\n",
    "filenames = []\n",
    "imgs = []\n",
    "for f in files:\n",
    "    if f.endswith('.tif'):\n",
    "        imgs.append(io.imread(im_dir+f)) # read .tif files into imgs array\n",
    "        filenames.append(f) # store name of file so we can make sensible save titles later\n",
    "        \n",
    "n_channels = imgs[0].shape[0] # check number of channels in first image\n",
    "assert n_channels == len(channels) # make sure that channels list above is sensible\n",
    "for im in imgs:\n",
    "    assert im.shape[0]==n_channels # make sure all images have same number of channels"
   ]
  },
  {
   "cell_type": "code",
   "execution_count": 4,
   "id": "956fe0c0",
   "metadata": {},
   "outputs": [],
   "source": [
    "if os.path.isdir(save_dir)==False:\n",
    "    os.mkdir(save_dir) # create save directory if it doesn't already exist"
   ]
  },
  {
   "cell_type": "code",
   "execution_count": 5,
   "id": "bccb2893",
   "metadata": {},
   "outputs": [],
   "source": [
    "model_cyto = models.Cellpose(gpu=False, model_type='cyto') # we're using the cyto model to segment the cells"
   ]
  },
  {
   "cell_type": "code",
   "execution_count": 6,
   "id": "ac57d8ff",
   "metadata": {},
   "outputs": [
    {
     "name": "stdout",
     "output_type": "stream",
     "text": [
      "Working on image 20220223_1.5h-+estradiol_06.vsi Group_1 Level_1 Area_1_projection-1.tif...\n",
      "\tSegmentation took 273.0746533870697 seconds\n"
     ]
    },
    {
     "name": "stderr",
     "output_type": "stream",
     "text": [
      "Clipping input data to the valid range for imshow with RGB data ([0..1] for floats or [0..255] for integers).\n"
     ]
    },
    {
     "name": "stdout",
     "output_type": "stream",
     "text": [
      "\tSegmentation results written to cellpose_output/20220223_1.5h-+estradiol_06.vsi Group_1 Level_1 Area_1_projection-1.tif__seg.npy\n"
     ]
    },
    {
     "name": "stderr",
     "output_type": "stream",
     "text": [
      "Clipping input data to the valid range for imshow with RGB data ([0..1] for floats or [0..255] for integers).\n"
     ]
    },
    {
     "name": "stdout",
     "output_type": "stream",
     "text": [
      "\tMasks and outputs written to cellpose_output/20220223_1.5h-+estradiol_06.vsi Group_1 Level_1 Area_1_projection-1.tif__cp_masks.png and cellpose_output/20220223_1.5h-+estradiol_06.vsi Group_1 Level_1 Area_1_projection-1.tif__cp_outputs.png \n",
      "Working on image 20220223_1.5h-+estradiol_06.vsi Group_1 Level_1 Area_1_projection-2.tif...\n",
      "\tSegmentation took 347.2397937774658 seconds\n",
      "\tSegmentation results written to cellpose_output/20220223_1.5h-+estradiol_06.vsi Group_1 Level_1 Area_1_projection-2.tif__seg.npy\n"
     ]
    },
    {
     "name": "stderr",
     "output_type": "stream",
     "text": [
      "Clipping input data to the valid range for imshow with RGB data ([0..1] for floats or [0..255] for integers).\n",
      "Clipping input data to the valid range for imshow with RGB data ([0..1] for floats or [0..255] for integers).\n"
     ]
    },
    {
     "name": "stdout",
     "output_type": "stream",
     "text": [
      "\tMasks and outputs written to cellpose_output/20220223_1.5h-+estradiol_06.vsi Group_1 Level_1 Area_1_projection-2.tif__cp_masks.png and cellpose_output/20220223_1.5h-+estradiol_06.vsi Group_1 Level_1 Area_1_projection-2.tif__cp_outputs.png \n",
      "Working on image 20220223_1.5h-+estradiol_06.vsi Group_1 Level_1 Area_1_projection-3.tif...\n",
      "\tSegmentation took 371.86406087875366 seconds\n"
     ]
    },
    {
     "name": "stderr",
     "output_type": "stream",
     "text": [
      "Clipping input data to the valid range for imshow with RGB data ([0..1] for floats or [0..255] for integers).\n"
     ]
    },
    {
     "name": "stdout",
     "output_type": "stream",
     "text": [
      "\tSegmentation results written to cellpose_output/20220223_1.5h-+estradiol_06.vsi Group_1 Level_1 Area_1_projection-3.tif__seg.npy\n"
     ]
    },
    {
     "name": "stderr",
     "output_type": "stream",
     "text": [
      "Clipping input data to the valid range for imshow with RGB data ([0..1] for floats or [0..255] for integers).\n"
     ]
    },
    {
     "name": "stdout",
     "output_type": "stream",
     "text": [
      "\tMasks and outputs written to cellpose_output/20220223_1.5h-+estradiol_06.vsi Group_1 Level_1 Area_1_projection-3.tif__cp_masks.png and cellpose_output/20220223_1.5h-+estradiol_06.vsi Group_1 Level_1 Area_1_projection-3.tif__cp_outputs.png \n"
     ]
    }
   ],
   "source": [
    "masks = [] # set up arrays to store masks etc in in case you want to do anything with them later in the notebook\n",
    "flows = []\n",
    "styles = []\n",
    "diams = []\n",
    "\n",
    "\n",
    "for im, filename in zip(imgs, filenames):\n",
    "    start = time.time()\n",
    "    \n",
    "    print(f'Working on image {filename}...')\n",
    "    \n",
    "    im = np.moveaxis(im, 0, n_channels-1) # reorder tif format to expected rgb input\n",
    "    \n",
    "    _masks, _flows, _styles, _diams = model_cyto.eval(im[:,:,channels.index('cell_body')], diameter=None) # this is the line that actually runs cellpose\n",
    "    \n",
    "    stop = time.time()\n",
    "    \n",
    "    print(f'\\tSegmentation took {stop-start} seconds')\n",
    "    \n",
    "    save_head = save_dir+filename+'__'\n",
    "    \n",
    "    # save outputs and report with print statements\n",
    "    \n",
    "    #outlines = utils.outlines_list(_masks)\n",
    "    #io.outlines_to_text(save_head, outlines)\n",
    "    \n",
    "    #print(f'\\t\\tImageJ ROIs written to {save_head}cp_outlines.txt')\n",
    "    \n",
    "    io.masks_flows_to_seg(im, _masks, _flows, _diams, save_head, [0])\n",
    "    print(f'\\tSegmentation results written to {save_head}seg.npy')\n",
    "    \n",
    "    io.save_to_png(im, _masks, _flows, save_head)\n",
    "    print(f'\\tMasks and outputs written to {save_head}cp_masks.png and {save_head}cp_outputs.png ')\n",
    "    \n",
    "    # add outputs to internal lists\n",
    "    masks.append(_masks)\n",
    "    flows.append(_flows)\n",
    "    styles.append(_styles)\n",
    "    diams.append(_diams)"
   ]
  }
 ],
 "metadata": {
  "kernelspec": {
   "display_name": "Python 3 (ipykernel)",
   "language": "python",
   "name": "python3"
  },
  "language_info": {
   "codemirror_mode": {
    "name": "ipython",
    "version": 3
   },
   "file_extension": ".py",
   "mimetype": "text/x-python",
   "name": "python",
   "nbconvert_exporter": "python",
   "pygments_lexer": "ipython3",
   "version": "3.8.12"
  }
 },
 "nbformat": 4,
 "nbformat_minor": 5
}
